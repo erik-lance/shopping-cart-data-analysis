{
 "cells": [
  {
   "cell_type": "code",
   "execution_count": null,
   "metadata": {},
   "outputs": [],
   "source": [
    "import cv2\n",
    "import numpy as np\n",
    "import matplotlib.pyplot as plt\n",
    "import xml.etree.ElementTree as ET\n",
    "import pandas as pd\n"
   ]
  },
  {
   "cell_type": "code",
   "execution_count": null,
   "metadata": {},
   "outputs": [],
   "source": [
    "def load_config(config_num):\n",
    "    img_file = f'heatmaps/move_heatmap_config{config_num}.jpg'\n",
    "    xml_file = f'xmls/move_heatmap_config{config_num}.xml'\n",
    "\n",
    "    img = cv2.imread(img_file)\n",
    "    img_gray = cv2.cvtColor(img, cv2.COLOR_RGB2GRAY)\n",
    "\n",
    "    tree = ET.parse(xml_file)\n",
    "    root = tree.getroot()\n",
    "\n",
    "    xmins = [int(xmin.text) for xmin in root.findall('object/bndbox/xmin')]\n",
    "    ymins = [int(ymin.text) for ymin in root.findall('object/bndbox/ymin')]\n",
    "    xmaxs = [int(xmax.text) for xmax in root.findall('object/bndbox/xmax')]\n",
    "    ymaxs = [int(ymax.text) for ymax in root.findall('object/bndbox/ymax')]\n",
    "\n",
    "    height = int(root.find('size/height').text)\n",
    "    width = int(root.find('size/width').text)\n",
    "\n",
    "    xml_data = open(xml_file).read()\n",
    "    num_obj = xml_data.count('</object>')\n",
    "\n",
    "    return img_gray, num_obj, xmins, ymins, xmaxs, ymaxs, height, width\n"
   ]
  },
  {
   "cell_type": "code",
   "execution_count": null,
   "metadata": {},
   "outputs": [],
   "source": [
    "tree = ET.parse('xmls/move_heatmap_config0.xml')\n",
    "root = tree.getroot()\n",
    "\n",
    "names = [element.text for element in root.findall('object/name')]\n",
    "print(names)\n"
   ]
  },
  {
   "cell_type": "code",
   "execution_count": null,
   "metadata": {},
   "outputs": [],
   "source": [
    "all_scores = []\n",
    "\n",
    "configs = range(0, 7)\n",
    "\n",
    "for config in configs:\n",
    "    img_gray, num_obj, xmins, ymins, xmaxs, ymaxs, height, width = load_config(config)\n",
    "    scores = []\n",
    "    for i in range(0, num_obj):\n",
    "        mask = np.zeros([height, width])\n",
    "\n",
    "        xmin, ymin, xmax, ymax = xmins[i], ymins[i], xmaxs[i], ymaxs[i]\n",
    "\n",
    "        bbox = np.array([xmin, ymin, xmax, ymax])\n",
    "\n",
    "        mask[bbox[1]:bbox[3], bbox[0]:bbox[2]] = 1\n",
    "\n",
    "        object = np.multiply(mask, img_gray)\n",
    "\n",
    "        score = np.amax(object) / np.amax(img_gray)\n",
    "        scores.append(score)\n",
    "\n",
    "    all_scores.append(scores)\n",
    "\n",
    "all_scores_df = pd.DataFrame(all_scores, columns=names)\n",
    "\n",
    "all_scores_df.to_csv('heatmap_analysis_results.csv', index=False)\n",
    "all_scores_df"
   ]
  },
  {
   "cell_type": "code",
   "execution_count": null,
   "metadata": {},
   "outputs": [],
   "source": [
    "max_score = all_scores_df.iloc[:, -1].max()\n",
    "\n",
    "cmap = plt.cm.get_cmap('Blues')\n",
    "\n",
    "for i in range(len(all_scores_df)):\n",
    "    color = cmap((all_scores_df.iloc[i, -1] / max_score) ** 10)\n",
    "    plt.bar(i, all_scores_df.iloc[i, -1], color=color, width=0.5)\n",
    "\n",
    "plt.xlabel('Configuration No.')\n",
    "plt.ylabel('Attention Score')\n",
    "plt.title('Attention Score of the Checkout Button')\n",
    "plt.rcParams[\"figure.figsize\"] = (6, 3)\n",
    "\n",
    "plt.show()"
   ]
  },
  {
   "cell_type": "code",
   "execution_count": null,
   "metadata": {},
   "outputs": [],
   "source": []
  }
 ],
 "metadata": {
  "kernelspec": {
   "display_name": "venv",
   "language": "python",
   "name": "python3"
  },
  "language_info": {
   "codemirror_mode": {
    "name": "ipython",
    "version": 3
   },
   "file_extension": ".py",
   "mimetype": "text/x-python",
   "name": "python",
   "nbconvert_exporter": "python",
   "pygments_lexer": "ipython3",
   "version": "3.10.9"
  }
 },
 "nbformat": 4,
 "nbformat_minor": 2
}
